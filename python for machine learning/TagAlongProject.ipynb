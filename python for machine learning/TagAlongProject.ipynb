{
 "cells": [
  {
   "cell_type": "code",
   "execution_count": 41,
   "id": "90a6d9c5",
   "metadata": {},
   "outputs": [],
   "source": [
    "import pandas as pd\n",
    "import seaborn as sns"
   ]
  },
  {
   "cell_type": "code",
   "execution_count": 4,
   "id": "ff13a699",
   "metadata": {},
   "outputs": [],
   "source": [
    "#reading in the data\n",
    "data = pd.read_csv('FoodBalanceSheets_E_Africa_NOFLAG.csv', encoding='latin-1')"
   ]
  },
  {
   "cell_type": "code",
   "execution_count": 6,
   "id": "e1f7117c",
   "metadata": {
    "scrolled": false
   },
   "outputs": [
    {
     "data": {
      "text/html": [
       "<div>\n",
       "<style scoped>\n",
       "    .dataframe tbody tr th:only-of-type {\n",
       "        vertical-align: middle;\n",
       "    }\n",
       "\n",
       "    .dataframe tbody tr th {\n",
       "        vertical-align: top;\n",
       "    }\n",
       "\n",
       "    .dataframe thead th {\n",
       "        text-align: right;\n",
       "    }\n",
       "</style>\n",
       "<table border=\"1\" class=\"dataframe\">\n",
       "  <thead>\n",
       "    <tr style=\"text-align: right;\">\n",
       "      <th></th>\n",
       "      <th>Area Code</th>\n",
       "      <th>Area</th>\n",
       "      <th>Item Code</th>\n",
       "      <th>Item</th>\n",
       "      <th>Element Code</th>\n",
       "      <th>Element</th>\n",
       "      <th>Unit</th>\n",
       "      <th>Y2014</th>\n",
       "      <th>Y2015</th>\n",
       "      <th>Y2016</th>\n",
       "      <th>Y2017</th>\n",
       "      <th>Y2018</th>\n",
       "    </tr>\n",
       "  </thead>\n",
       "  <tbody>\n",
       "    <tr>\n",
       "      <th>0</th>\n",
       "      <td>4</td>\n",
       "      <td>Algeria</td>\n",
       "      <td>2501</td>\n",
       "      <td>Population</td>\n",
       "      <td>511</td>\n",
       "      <td>Total Population - Both sexes</td>\n",
       "      <td>1000 persons</td>\n",
       "      <td>38924.00</td>\n",
       "      <td>39728.00</td>\n",
       "      <td>40551.00</td>\n",
       "      <td>41389.00</td>\n",
       "      <td>42228.00</td>\n",
       "    </tr>\n",
       "    <tr>\n",
       "      <th>1</th>\n",
       "      <td>4</td>\n",
       "      <td>Algeria</td>\n",
       "      <td>2501</td>\n",
       "      <td>Population</td>\n",
       "      <td>5301</td>\n",
       "      <td>Domestic supply quantity</td>\n",
       "      <td>1000 tonnes</td>\n",
       "      <td>0.00</td>\n",
       "      <td>0.00</td>\n",
       "      <td>0.00</td>\n",
       "      <td>0.00</td>\n",
       "      <td>0.00</td>\n",
       "    </tr>\n",
       "    <tr>\n",
       "      <th>2</th>\n",
       "      <td>4</td>\n",
       "      <td>Algeria</td>\n",
       "      <td>2901</td>\n",
       "      <td>Grand Total</td>\n",
       "      <td>664</td>\n",
       "      <td>Food supply (kcal/capita/day)</td>\n",
       "      <td>kcal/capita/day</td>\n",
       "      <td>3377.00</td>\n",
       "      <td>3379.00</td>\n",
       "      <td>3372.00</td>\n",
       "      <td>3341.00</td>\n",
       "      <td>3322.00</td>\n",
       "    </tr>\n",
       "    <tr>\n",
       "      <th>3</th>\n",
       "      <td>4</td>\n",
       "      <td>Algeria</td>\n",
       "      <td>2901</td>\n",
       "      <td>Grand Total</td>\n",
       "      <td>674</td>\n",
       "      <td>Protein supply quantity (g/capita/day)</td>\n",
       "      <td>g/capita/day</td>\n",
       "      <td>94.90</td>\n",
       "      <td>94.35</td>\n",
       "      <td>94.72</td>\n",
       "      <td>92.82</td>\n",
       "      <td>91.83</td>\n",
       "    </tr>\n",
       "    <tr>\n",
       "      <th>4</th>\n",
       "      <td>4</td>\n",
       "      <td>Algeria</td>\n",
       "      <td>2901</td>\n",
       "      <td>Grand Total</td>\n",
       "      <td>684</td>\n",
       "      <td>Fat supply quantity (g/capita/day)</td>\n",
       "      <td>g/capita/day</td>\n",
       "      <td>80.06</td>\n",
       "      <td>79.36</td>\n",
       "      <td>77.40</td>\n",
       "      <td>80.19</td>\n",
       "      <td>77.28</td>\n",
       "    </tr>\n",
       "  </tbody>\n",
       "</table>\n",
       "</div>"
      ],
      "text/plain": [
       "   Area Code     Area  Item Code         Item  Element Code  \\\n",
       "0          4  Algeria       2501   Population           511   \n",
       "1          4  Algeria       2501   Population          5301   \n",
       "2          4  Algeria       2901  Grand Total           664   \n",
       "3          4  Algeria       2901  Grand Total           674   \n",
       "4          4  Algeria       2901  Grand Total           684   \n",
       "\n",
       "                                  Element             Unit     Y2014  \\\n",
       "0           Total Population - Both sexes     1000 persons  38924.00   \n",
       "1                Domestic supply quantity      1000 tonnes      0.00   \n",
       "2           Food supply (kcal/capita/day)  kcal/capita/day   3377.00   \n",
       "3  Protein supply quantity (g/capita/day)     g/capita/day     94.90   \n",
       "4      Fat supply quantity (g/capita/day)     g/capita/day     80.06   \n",
       "\n",
       "      Y2015     Y2016     Y2017     Y2018  \n",
       "0  39728.00  40551.00  41389.00  42228.00  \n",
       "1      0.00      0.00      0.00      0.00  \n",
       "2   3379.00   3372.00   3341.00   3322.00  \n",
       "3     94.35     94.72     92.82     91.83  \n",
       "4     79.36     77.40     80.19     77.28  "
      ]
     },
     "execution_count": 6,
     "metadata": {},
     "output_type": "execute_result"
    }
   ],
   "source": [
    "data.head(5)"
   ]
  },
  {
   "cell_type": "code",
   "execution_count": 63,
   "id": "dcd4761a",
   "metadata": {},
   "outputs": [
    {
     "data": {
      "text/plain": [
       "(60943, 12)"
      ]
     },
     "execution_count": 63,
     "metadata": {},
     "output_type": "execute_result"
    }
   ],
   "source": [
    "data.shape"
   ]
  },
  {
   "cell_type": "code",
   "execution_count": 9,
   "id": "cf986992",
   "metadata": {
    "scrolled": true
   },
   "outputs": [
    {
     "data": {
      "text/plain": [
       "Area Code         49\n",
       "Area              49\n",
       "Item Code        122\n",
       "Item             119\n",
       "Element Code      18\n",
       "Element           18\n",
       "Unit               5\n",
       "Y2014           4493\n",
       "Y2015           4520\n",
       "Y2016           4520\n",
       "Y2017           4537\n",
       "Y2018           4591\n",
       "dtype: int64"
      ]
     },
     "execution_count": 9,
     "metadata": {},
     "output_type": "execute_result"
    }
   ],
   "source": [
    "data.nunique()"
   ]
  },
  {
   "cell_type": "code",
   "execution_count": 10,
   "id": "2be95593",
   "metadata": {
    "scrolled": false
   },
   "outputs": [
    {
     "data": {
      "text/plain": [
       "Element\n",
       "Domestic supply quantity                  2088198.10\n",
       "Export Quantity                            182338.80\n",
       "Fat supply quantity (g/capita/day)          10253.84\n",
       "Feed                                       223705.68\n",
       "Food                                      1258888.28\n",
       "Food supply (kcal/capita/day)              454681.00\n",
       "Food supply quantity (kg/capita/yr)         48690.04\n",
       "Import Quantity                            294559.09\n",
       "Losses                                     160614.00\n",
       "Other uses (non-food)                       91645.97\n",
       "Processing                                 292836.00\n",
       "Production                                2030056.89\n",
       "Protein supply quantity (g/capita/day)      11842.45\n",
       "Residuals                                   35500.00\n",
       "Seed                                        24870.14\n",
       "Stock Variation                             54316.91\n",
       "Total Population - Both sexes             1112641.00\n",
       "Tourist consumption                            91.00\n",
       "Name: Y2017, dtype: float64"
      ]
     },
     "execution_count": 10,
     "metadata": {},
     "output_type": "execute_result"
    }
   ],
   "source": [
    "data.groupby('Element')['Y2017'].sum()"
   ]
  },
  {
   "cell_type": "code",
   "execution_count": 62,
   "id": "563ec667",
   "metadata": {},
   "outputs": [
    {
     "data": {
      "text/plain": [
       "Area\n",
       "Sudan (former)                       0.00\n",
       "Ethiopia PDR                         0.00\n",
       "Comoros                             59.84\n",
       "Seychelles                         442.34\n",
       "Sao Tome and Principe            12662.63\n",
       "Cabo Verde                       14650.74\n",
       "Guinea-Bissau                    19102.77\n",
       "Lesotho                          21267.96\n",
       "Botswana                         22101.30\n",
       "Djibouti                         22729.91\n",
       "Gambia                           23154.18\n",
       "Gabon                            27979.64\n",
       "Liberia                          29342.20\n",
       "Namibia                          29874.89\n",
       "Central African Republic         29937.00\n",
       "Congo                            41181.68\n",
       "Togo                             49841.88\n",
       "Mauritius                        51114.83\n",
       "Eswatini                         54343.33\n",
       "Sierra Leone                     55311.33\n",
       "Chad                             71594.68\n",
       "Rwanda                           73663.69\n",
       "Zimbabwe                         75919.34\n",
       "Senegal                          95681.15\n",
       "Guinea                           98138.87\n",
       "Burkina Faso                    101855.07\n",
       "Zambia                          103223.77\n",
       "Tunisia                         124167.20\n",
       "Benin                           124771.22\n",
       "Niger                           126707.58\n",
       "Madagascar                      131197.73\n",
       "Mali                            149928.33\n",
       "Mauritania                      156665.46\n",
       "Mozambique                      161407.98\n",
       "Malawi                          181098.71\n",
       "Uganda                          213950.38\n",
       "Côte d'Ivoire                   224599.01\n",
       "Angola                          229159.57\n",
       "Cameroon                        232030.43\n",
       "Sudan                           239931.92\n",
       "Kenya                           264660.66\n",
       "United Republic of Tanzania     322616.85\n",
       "Algeria                         325644.27\n",
       "Ghana                           337599.06\n",
       "Morocco                         388495.36\n",
       "Ethiopia                        448683.76\n",
       "South Africa                    517590.54\n",
       "Egypt                           866379.92\n",
       "Nigeria                        1483268.23\n",
       "Name: Y2017, dtype: float64"
      ]
     },
     "execution_count": 62,
     "metadata": {},
     "output_type": "execute_result"
    }
   ],
   "source": [
    "data.groupby('Area')['Y2017'].sum().sort_values(ascending=True)"
   ]
  },
  {
   "cell_type": "code",
   "execution_count": 13,
   "id": "6b6cc12c",
   "metadata": {},
   "outputs": [
    {
     "ename": "TypeError",
     "evalue": "'tuple' object does not support item assignment",
     "output_type": "error",
     "traceback": [
      "\u001b[1;31m---------------------------------------------------------------------------\u001b[0m",
      "\u001b[1;31mTypeError\u001b[0m                                 Traceback (most recent call last)",
      "Input \u001b[1;32mIn [13]\u001b[0m, in \u001b[0;36m<cell line: 2>\u001b[1;34m()\u001b[0m\n\u001b[0;32m      1\u001b[0m my_tuppy \u001b[38;5;241m=\u001b[39m (\u001b[38;5;241m1\u001b[39m, \u001b[38;5;241m2\u001b[39m, \u001b[38;5;241m5\u001b[39m, \u001b[38;5;241m8\u001b[39m)\n\u001b[1;32m----> 2\u001b[0m my_tuppy[\u001b[38;5;241m2\u001b[39m] \u001b[38;5;241m=\u001b[39m \u001b[38;5;241m6\u001b[39m\n",
      "\u001b[1;31mTypeError\u001b[0m: 'tuple' object does not support item assignment"
     ]
    }
   ],
   "source": [
    "my_tuppy = (1, 2, 5, 8)\n",
    "my_tuppy[2] = 6"
   ]
  },
  {
   "cell_type": "code",
   "execution_count": 18,
   "id": "a8b9c960",
   "metadata": {},
   "outputs": [],
   "source": [
    "item_wine = data[data['Item'] == 'Wine']"
   ]
  },
  {
   "cell_type": "code",
   "execution_count": 19,
   "id": "7a549fce",
   "metadata": {
    "scrolled": true
   },
   "outputs": [
    {
     "data": {
      "text/plain": [
       "Item\n",
       "Wine    4251.81\n",
       "Name: Y2015, dtype: float64"
      ]
     },
     "execution_count": 19,
     "metadata": {},
     "output_type": "execute_result"
    }
   ],
   "source": [
    "item_wine.groupby('Item')['Y2015'].sum()"
   ]
  },
  {
   "cell_type": "code",
   "execution_count": 20,
   "id": "8eaf14b5",
   "metadata": {
    "scrolled": false
   },
   "outputs": [
    {
     "data": {
      "text/plain": [
       "Item\n",
       "Wine    4039.32\n",
       "Name: Y2018, dtype: float64"
      ]
     },
     "execution_count": 20,
     "metadata": {},
     "output_type": "execute_result"
    }
   ],
   "source": [
    "item_wine.groupby('Item')['Y2018'].sum()"
   ]
  },
  {
   "cell_type": "code",
   "execution_count": 23,
   "id": "2100bec8",
   "metadata": {
    "scrolled": true
   },
   "outputs": [
    {
     "data": {
      "text/plain": [
       "1589"
      ]
     },
     "execution_count": 23,
     "metadata": {},
     "output_type": "execute_result"
    }
   ],
   "source": [
    "null_values = data['Y2014'].isnull().sum()\n",
    "null_values"
   ]
  },
  {
   "cell_type": "code",
   "execution_count": 34,
   "id": "39ea1f1a",
   "metadata": {
    "scrolled": true
   },
   "outputs": [
    {
     "name": "stderr",
     "output_type": "stream",
     "text": [
      "C:\\Users\\clinton\\AppData\\Local\\Temp\\ipykernel_3840\\956711352.py:1: UserWarning: Boolean Series key will be reindexed to match DataFrame index.\n",
      "  protein_qty = data[data['Area'] == 'Madagascar'][data['Element'] == 'Protein supply quantity (g/capita/day)']\n"
     ]
    },
    {
     "data": {
      "text/html": [
       "<div>\n",
       "<style scoped>\n",
       "    .dataframe tbody tr th:only-of-type {\n",
       "        vertical-align: middle;\n",
       "    }\n",
       "\n",
       "    .dataframe tbody tr th {\n",
       "        vertical-align: top;\n",
       "    }\n",
       "\n",
       "    .dataframe thead th {\n",
       "        text-align: right;\n",
       "    }\n",
       "</style>\n",
       "<table border=\"1\" class=\"dataframe\">\n",
       "  <thead>\n",
       "    <tr style=\"text-align: right;\">\n",
       "      <th></th>\n",
       "      <th>Area Code</th>\n",
       "      <th>Area</th>\n",
       "      <th>Item Code</th>\n",
       "      <th>Item</th>\n",
       "      <th>Element Code</th>\n",
       "      <th>Element</th>\n",
       "      <th>Unit</th>\n",
       "      <th>Y2014</th>\n",
       "      <th>Y2015</th>\n",
       "      <th>Y2016</th>\n",
       "      <th>Y2017</th>\n",
       "      <th>Y2018</th>\n",
       "    </tr>\n",
       "  </thead>\n",
       "  <tbody>\n",
       "    <tr>\n",
       "      <th>30718</th>\n",
       "      <td>129</td>\n",
       "      <td>Madagascar</td>\n",
       "      <td>2901</td>\n",
       "      <td>Grand Total</td>\n",
       "      <td>674</td>\n",
       "      <td>Protein supply quantity (g/capita/day)</td>\n",
       "      <td>g/capita/day</td>\n",
       "      <td>44.45</td>\n",
       "      <td>43.26</td>\n",
       "      <td>43.35</td>\n",
       "      <td>43.94</td>\n",
       "      <td>44.17</td>\n",
       "    </tr>\n",
       "    <tr>\n",
       "      <th>30721</th>\n",
       "      <td>129</td>\n",
       "      <td>Madagascar</td>\n",
       "      <td>2903</td>\n",
       "      <td>Vegetal Products</td>\n",
       "      <td>674</td>\n",
       "      <td>Protein supply quantity (g/capita/day)</td>\n",
       "      <td>g/capita/day</td>\n",
       "      <td>35.43</td>\n",
       "      <td>34.04</td>\n",
       "      <td>33.96</td>\n",
       "      <td>34.47</td>\n",
       "      <td>34.81</td>\n",
       "    </tr>\n",
       "    <tr>\n",
       "      <th>30724</th>\n",
       "      <td>129</td>\n",
       "      <td>Madagascar</td>\n",
       "      <td>2941</td>\n",
       "      <td>Animal Products</td>\n",
       "      <td>674</td>\n",
       "      <td>Protein supply quantity (g/capita/day)</td>\n",
       "      <td>g/capita/day</td>\n",
       "      <td>9.02</td>\n",
       "      <td>9.23</td>\n",
       "      <td>9.38</td>\n",
       "      <td>9.47</td>\n",
       "      <td>9.36</td>\n",
       "    </tr>\n",
       "    <tr>\n",
       "      <th>30740</th>\n",
       "      <td>129</td>\n",
       "      <td>Madagascar</td>\n",
       "      <td>2905</td>\n",
       "      <td>Cereals - Excluding Beer</td>\n",
       "      <td>674</td>\n",
       "      <td>Protein supply quantity (g/capita/day)</td>\n",
       "      <td>g/capita/day</td>\n",
       "      <td>27.97</td>\n",
       "      <td>27.26</td>\n",
       "      <td>27.38</td>\n",
       "      <td>27.97</td>\n",
       "      <td>28.19</td>\n",
       "    </tr>\n",
       "    <tr>\n",
       "      <th>30756</th>\n",
       "      <td>129</td>\n",
       "      <td>Madagascar</td>\n",
       "      <td>2511</td>\n",
       "      <td>Wheat and products</td>\n",
       "      <td>674</td>\n",
       "      <td>Protein supply quantity (g/capita/day)</td>\n",
       "      <td>g/capita/day</td>\n",
       "      <td>2.09</td>\n",
       "      <td>2.14</td>\n",
       "      <td>2.53</td>\n",
       "      <td>2.88</td>\n",
       "      <td>3.15</td>\n",
       "    </tr>\n",
       "    <tr>\n",
       "      <th>...</th>\n",
       "      <td>...</td>\n",
       "      <td>...</td>\n",
       "      <td>...</td>\n",
       "      <td>...</td>\n",
       "      <td>...</td>\n",
       "      <td>...</td>\n",
       "      <td>...</td>\n",
       "      <td>...</td>\n",
       "      <td>...</td>\n",
       "      <td>...</td>\n",
       "      <td>...</td>\n",
       "      <td>...</td>\n",
       "    </tr>\n",
       "    <tr>\n",
       "      <th>32113</th>\n",
       "      <td>129</td>\n",
       "      <td>Madagascar</td>\n",
       "      <td>2769</td>\n",
       "      <td>Aquatic Animals, Others</td>\n",
       "      <td>674</td>\n",
       "      <td>Protein supply quantity (g/capita/day)</td>\n",
       "      <td>g/capita/day</td>\n",
       "      <td>0.01</td>\n",
       "      <td>0.01</td>\n",
       "      <td>0.00</td>\n",
       "      <td>0.00</td>\n",
       "      <td>0.00</td>\n",
       "    </tr>\n",
       "    <tr>\n",
       "      <th>32123</th>\n",
       "      <td>129</td>\n",
       "      <td>Madagascar</td>\n",
       "      <td>2775</td>\n",
       "      <td>Aquatic Plants</td>\n",
       "      <td>674</td>\n",
       "      <td>Protein supply quantity (g/capita/day)</td>\n",
       "      <td>g/capita/day</td>\n",
       "      <td>0.00</td>\n",
       "      <td>0.00</td>\n",
       "      <td>0.00</td>\n",
       "      <td>0.00</td>\n",
       "      <td>0.00</td>\n",
       "    </tr>\n",
       "    <tr>\n",
       "      <th>32133</th>\n",
       "      <td>129</td>\n",
       "      <td>Madagascar</td>\n",
       "      <td>2928</td>\n",
       "      <td>Miscellaneous</td>\n",
       "      <td>674</td>\n",
       "      <td>Protein supply quantity (g/capita/day)</td>\n",
       "      <td>g/capita/day</td>\n",
       "      <td>0.02</td>\n",
       "      <td>0.02</td>\n",
       "      <td>0.02</td>\n",
       "      <td>0.02</td>\n",
       "      <td>0.02</td>\n",
       "    </tr>\n",
       "    <tr>\n",
       "      <th>32142</th>\n",
       "      <td>129</td>\n",
       "      <td>Madagascar</td>\n",
       "      <td>2680</td>\n",
       "      <td>Infant food</td>\n",
       "      <td>674</td>\n",
       "      <td>Protein supply quantity (g/capita/day)</td>\n",
       "      <td>g/capita/day</td>\n",
       "      <td>0.00</td>\n",
       "      <td>0.00</td>\n",
       "      <td>0.00</td>\n",
       "      <td>0.00</td>\n",
       "      <td>0.00</td>\n",
       "    </tr>\n",
       "    <tr>\n",
       "      <th>32152</th>\n",
       "      <td>129</td>\n",
       "      <td>Madagascar</td>\n",
       "      <td>2899</td>\n",
       "      <td>Miscellaneous</td>\n",
       "      <td>674</td>\n",
       "      <td>Protein supply quantity (g/capita/day)</td>\n",
       "      <td>g/capita/day</td>\n",
       "      <td>0.01</td>\n",
       "      <td>0.01</td>\n",
       "      <td>0.01</td>\n",
       "      <td>0.01</td>\n",
       "      <td>0.01</td>\n",
       "    </tr>\n",
       "  </tbody>\n",
       "</table>\n",
       "<p>111 rows × 12 columns</p>\n",
       "</div>"
      ],
      "text/plain": [
       "       Area Code        Area  Item Code                      Item  \\\n",
       "30718        129  Madagascar       2901               Grand Total   \n",
       "30721        129  Madagascar       2903          Vegetal Products   \n",
       "30724        129  Madagascar       2941           Animal Products   \n",
       "30740        129  Madagascar       2905  Cereals - Excluding Beer   \n",
       "30756        129  Madagascar       2511        Wheat and products   \n",
       "...          ...         ...        ...                       ...   \n",
       "32113        129  Madagascar       2769   Aquatic Animals, Others   \n",
       "32123        129  Madagascar       2775            Aquatic Plants   \n",
       "32133        129  Madagascar       2928             Miscellaneous   \n",
       "32142        129  Madagascar       2680               Infant food   \n",
       "32152        129  Madagascar       2899             Miscellaneous   \n",
       "\n",
       "       Element Code                                 Element          Unit  \\\n",
       "30718           674  Protein supply quantity (g/capita/day)  g/capita/day   \n",
       "30721           674  Protein supply quantity (g/capita/day)  g/capita/day   \n",
       "30724           674  Protein supply quantity (g/capita/day)  g/capita/day   \n",
       "30740           674  Protein supply quantity (g/capita/day)  g/capita/day   \n",
       "30756           674  Protein supply quantity (g/capita/day)  g/capita/day   \n",
       "...             ...                                     ...           ...   \n",
       "32113           674  Protein supply quantity (g/capita/day)  g/capita/day   \n",
       "32123           674  Protein supply quantity (g/capita/day)  g/capita/day   \n",
       "32133           674  Protein supply quantity (g/capita/day)  g/capita/day   \n",
       "32142           674  Protein supply quantity (g/capita/day)  g/capita/day   \n",
       "32152           674  Protein supply quantity (g/capita/day)  g/capita/day   \n",
       "\n",
       "       Y2014  Y2015  Y2016  Y2017  Y2018  \n",
       "30718  44.45  43.26  43.35  43.94  44.17  \n",
       "30721  35.43  34.04  33.96  34.47  34.81  \n",
       "30724   9.02   9.23   9.38   9.47   9.36  \n",
       "30740  27.97  27.26  27.38  27.97  28.19  \n",
       "30756   2.09   2.14   2.53   2.88   3.15  \n",
       "...      ...    ...    ...    ...    ...  \n",
       "32113   0.01   0.01   0.00   0.00   0.00  \n",
       "32123   0.00   0.00   0.00   0.00   0.00  \n",
       "32133   0.02   0.02   0.02   0.02   0.02  \n",
       "32142   0.00   0.00   0.00   0.00   0.00  \n",
       "32152   0.01   0.01   0.01   0.01   0.01  \n",
       "\n",
       "[111 rows x 12 columns]"
      ]
     },
     "execution_count": 34,
     "metadata": {},
     "output_type": "execute_result"
    }
   ],
   "source": [
    "protein_qty = data[data['Area'] == 'Madagascar'][data['Element'] == 'Protein supply quantity (g/capita/day)']\n",
    "protein_qty"
   ]
  },
  {
   "cell_type": "code",
   "execution_count": 37,
   "id": "14ceda74",
   "metadata": {
    "scrolled": true
   },
   "outputs": [
    {
     "data": {
      "text/plain": [
       "Area Code                                                   14319\n",
       "Area            MadagascarMadagascarMadagascarMadagascarMadaga...\n",
       "Item Code                                                  299405\n",
       "Item            Grand TotalVegetal ProductsAnimal ProductsCere...\n",
       "Element Code                                                74814\n",
       "Element         Protein supply quantity (g/capita/day)Protein ...\n",
       "Unit            g/capita/dayg/capita/dayg/capita/dayg/capita/d...\n",
       "Y2014                                                      177.79\n",
       "Y2015                                                      173.05\n",
       "Y2016                                                       173.4\n",
       "Y2017                                                      175.75\n",
       "Y2018                                                      176.64\n",
       "dtype: object"
      ]
     },
     "execution_count": 37,
     "metadata": {},
     "output_type": "execute_result"
    }
   ],
   "source": [
    "protein_qty.sum()"
   ]
  },
  {
   "cell_type": "code",
   "execution_count": 38,
   "id": "071ec84d",
   "metadata": {
    "scrolled": true
   },
   "outputs": [
    {
     "data": {
      "text/plain": [
       "140.917764860268"
      ]
     },
     "execution_count": 38,
     "metadata": {},
     "output_type": "execute_result"
    }
   ],
   "source": [
    "data['Y2017'].mean()"
   ]
  },
  {
   "cell_type": "code",
   "execution_count": 40,
   "id": "2d5e1944",
   "metadata": {
    "scrolled": true
   },
   "outputs": [
    {
     "data": {
      "text/plain": [
       "1671.8623590572788"
      ]
     },
     "execution_count": 40,
     "metadata": {},
     "output_type": "execute_result"
    }
   ],
   "source": [
    "data['Y2017'].std()"
   ]
  },
  {
   "cell_type": "code",
   "execution_count": 50,
   "id": "e2360fa0",
   "metadata": {},
   "outputs": [
    {
     "data": {
      "text/plain": [
       "Index(['Area Code', 'Area', 'Item Code', 'Item', 'Element Code', 'Element',\n",
       "       'Unit', 'Y2014', 'Y2015', 'Y2016', 'Y2017', 'Y2018'],\n",
       "      dtype='object')"
      ]
     },
     "execution_count": 50,
     "metadata": {},
     "output_type": "execute_result"
    }
   ],
   "source": [
    "data.columns"
   ]
  },
  {
   "cell_type": "code",
   "execution_count": 59,
   "id": "a2e05ffd",
   "metadata": {
    "scrolled": false
   },
   "outputs": [
    {
     "data": {
      "text/html": [
       "<div>\n",
       "<style scoped>\n",
       "    .dataframe tbody tr th:only-of-type {\n",
       "        vertical-align: middle;\n",
       "    }\n",
       "\n",
       "    .dataframe tbody tr th {\n",
       "        vertical-align: top;\n",
       "    }\n",
       "\n",
       "    .dataframe thead th {\n",
       "        text-align: right;\n",
       "    }\n",
       "</style>\n",
       "<table border=\"1\" class=\"dataframe\">\n",
       "  <thead>\n",
       "    <tr style=\"text-align: right;\">\n",
       "      <th></th>\n",
       "      <th>Y2014</th>\n",
       "      <th>Y2015</th>\n",
       "      <th>Y2016</th>\n",
       "      <th>Y2017</th>\n",
       "      <th>Y2018</th>\n",
       "    </tr>\n",
       "    <tr>\n",
       "      <th>Element Code</th>\n",
       "      <th></th>\n",
       "      <th></th>\n",
       "      <th></th>\n",
       "      <th></th>\n",
       "      <th></th>\n",
       "    </tr>\n",
       "  </thead>\n",
       "  <tbody>\n",
       "    <tr>\n",
       "      <th>1.000000</th>\n",
       "      <td>0.024457</td>\n",
       "      <td>0.023889</td>\n",
       "      <td>0.023444</td>\n",
       "      <td>0.024254</td>\n",
       "      <td>0.024279</td>\n",
       "    </tr>\n",
       "    <tr>\n",
       "      <th>0.024457</th>\n",
       "      <td>1.000000</td>\n",
       "      <td>0.994647</td>\n",
       "      <td>0.996081</td>\n",
       "      <td>0.995230</td>\n",
       "      <td>0.994872</td>\n",
       "    </tr>\n",
       "    <tr>\n",
       "      <th>0.024279</th>\n",
       "      <td>0.994872</td>\n",
       "      <td>0.988208</td>\n",
       "      <td>0.992757</td>\n",
       "      <td>0.998103</td>\n",
       "      <td>1.000000</td>\n",
       "    </tr>\n",
       "    <tr>\n",
       "      <th>0.024254</th>\n",
       "      <td>0.995230</td>\n",
       "      <td>0.988048</td>\n",
       "      <td>0.992785</td>\n",
       "      <td>1.000000</td>\n",
       "      <td>0.998103</td>\n",
       "    </tr>\n",
       "    <tr>\n",
       "      <th>0.023889</th>\n",
       "      <td>0.994647</td>\n",
       "      <td>1.000000</td>\n",
       "      <td>0.995739</td>\n",
       "      <td>0.988048</td>\n",
       "      <td>0.988208</td>\n",
       "    </tr>\n",
       "    <tr>\n",
       "      <th>0.023444</th>\n",
       "      <td>0.996081</td>\n",
       "      <td>0.995739</td>\n",
       "      <td>1.000000</td>\n",
       "      <td>0.992785</td>\n",
       "      <td>0.992757</td>\n",
       "    </tr>\n",
       "    <tr>\n",
       "      <th>-0.000209</th>\n",
       "      <td>0.006164</td>\n",
       "      <td>0.005472</td>\n",
       "      <td>0.005247</td>\n",
       "      <td>0.005006</td>\n",
       "      <td>0.005665</td>\n",
       "    </tr>\n",
       "    <tr>\n",
       "      <th>-0.024683</th>\n",
       "      <td>0.021722</td>\n",
       "      <td>0.020857</td>\n",
       "      <td>0.020109</td>\n",
       "      <td>0.021494</td>\n",
       "      <td>0.021314</td>\n",
       "    </tr>\n",
       "  </tbody>\n",
       "</table>\n",
       "</div>"
      ],
      "text/plain": [
       "                 Y2014     Y2015     Y2016     Y2017     Y2018\n",
       "Element Code                                                  \n",
       " 1.000000     0.024457  0.023889  0.023444  0.024254  0.024279\n",
       " 0.024457     1.000000  0.994647  0.996081  0.995230  0.994872\n",
       " 0.024279     0.994872  0.988208  0.992757  0.998103  1.000000\n",
       " 0.024254     0.995230  0.988048  0.992785  1.000000  0.998103\n",
       " 0.023889     0.994647  1.000000  0.995739  0.988048  0.988208\n",
       " 0.023444     0.996081  0.995739  1.000000  0.992785  0.992757\n",
       "-0.000209     0.006164  0.005472  0.005247  0.005006  0.005665\n",
       "-0.024683     0.021722  0.020857  0.020109  0.021494  0.021314"
      ]
     },
     "execution_count": 59,
     "metadata": {},
     "output_type": "execute_result"
    }
   ],
   "source": [
    "correlation_data = data.corr()\n",
    "correlation_data.groupby('Element Code')[['Y2014', 'Y2015', 'Y2016', 'Y2017', 'Y2018']].sum().sort_values(by='Element Code', \n",
    "                                                                                                 ascending=False)"
   ]
  },
  {
   "cell_type": "code",
   "execution_count": 46,
   "id": "de0bea64",
   "metadata": {},
   "outputs": [
    {
     "data": {
      "text/plain": [
       "<AxesSubplot:>"
      ]
     },
     "execution_count": 46,
     "metadata": {},
     "output_type": "execute_result"
    },
    {
     "data": {
      "image/png": "[encoded data removed]",
      "text/plain": [
       "<Figure size 432x288 with 2 Axes>"
      ]
     },
     "metadata": {
      "needs_background": "light"
     },
     "output_type": "display_data"
    }
   ],
   "source": [
    "cmap = sns.diverging_palette(220, 10, as_cmap=True)\n",
    "sns.heatmap(correlation_data, vmax=.3, center=0, cmap=cmap, square=True, linewidth=.5, cbar_kws={'shrink': .5})"
   ]
  },
  {
   "cell_type": "code",
   "execution_count": 61,
   "id": "74a338ad",
   "metadata": {
    "scrolled": true
   },
   "outputs": [
    {
     "data": {
      "text/html": [
       "<div>\n",
       "<style scoped>\n",
       "    .dataframe tbody tr th:only-of-type {\n",
       "        vertical-align: middle;\n",
       "    }\n",
       "\n",
       "    .dataframe tbody tr th {\n",
       "        vertical-align: top;\n",
       "    }\n",
       "\n",
       "    .dataframe thead th {\n",
       "        text-align: right;\n",
       "    }\n",
       "</style>\n",
       "<table border=\"1\" class=\"dataframe\">\n",
       "  <thead>\n",
       "    <tr style=\"text-align: right;\">\n",
       "      <th></th>\n",
       "      <th>Y2014</th>\n",
       "      <th>Y2015</th>\n",
       "      <th>Y2016</th>\n",
       "      <th>Y2017</th>\n",
       "      <th>Y2018</th>\n",
       "    </tr>\n",
       "    <tr>\n",
       "      <th>Element</th>\n",
       "      <th></th>\n",
       "      <th></th>\n",
       "      <th></th>\n",
       "      <th></th>\n",
       "      <th></th>\n",
       "    </tr>\n",
       "  </thead>\n",
       "  <tbody>\n",
       "    <tr>\n",
       "      <th>Domestic supply quantity</th>\n",
       "      <td>1996716.35</td>\n",
       "      <td>2021493.55</td>\n",
       "      <td>2044842.70</td>\n",
       "      <td>2088198.10</td>\n",
       "      <td>2161192.10</td>\n",
       "    </tr>\n",
       "    <tr>\n",
       "      <th>Export Quantity</th>\n",
       "      <td>150020.64</td>\n",
       "      <td>157614.47</td>\n",
       "      <td>151920.46</td>\n",
       "      <td>182338.80</td>\n",
       "      <td>181594.80</td>\n",
       "    </tr>\n",
       "    <tr>\n",
       "      <th>Fat supply quantity (g/capita/day)</th>\n",
       "      <td>10225.56</td>\n",
       "      <td>10235.74</td>\n",
       "      <td>10102.77</td>\n",
       "      <td>10253.84</td>\n",
       "      <td>10258.69</td>\n",
       "    </tr>\n",
       "    <tr>\n",
       "      <th>Feed</th>\n",
       "      <td>216927.89</td>\n",
       "      <td>225050.22</td>\n",
       "      <td>228958.65</td>\n",
       "      <td>223705.68</td>\n",
       "      <td>233489.68</td>\n",
       "    </tr>\n",
       "    <tr>\n",
       "      <th>Food</th>\n",
       "      <td>1212332.49</td>\n",
       "      <td>1232361.10</td>\n",
       "      <td>1247022.17</td>\n",
       "      <td>1258888.28</td>\n",
       "      <td>1303841.28</td>\n",
       "    </tr>\n",
       "    <tr>\n",
       "      <th>Food supply (kcal/capita/day)</th>\n",
       "      <td>454257.00</td>\n",
       "      <td>453383.00</td>\n",
       "      <td>451810.00</td>\n",
       "      <td>454681.00</td>\n",
       "      <td>455261.00</td>\n",
       "    </tr>\n",
       "    <tr>\n",
       "      <th>Food supply quantity (kg/capita/yr)</th>\n",
       "      <td>49650.63</td>\n",
       "      <td>49345.13</td>\n",
       "      <td>48985.28</td>\n",
       "      <td>48690.04</td>\n",
       "      <td>49056.85</td>\n",
       "    </tr>\n",
       "    <tr>\n",
       "      <th>Import Quantity</th>\n",
       "      <td>274144.48</td>\n",
       "      <td>267018.46</td>\n",
       "      <td>286582.78</td>\n",
       "      <td>294559.09</td>\n",
       "      <td>287997.09</td>\n",
       "    </tr>\n",
       "    <tr>\n",
       "      <th>Losses</th>\n",
       "      <td>153223.00</td>\n",
       "      <td>155439.00</td>\n",
       "      <td>157787.00</td>\n",
       "      <td>160614.00</td>\n",
       "      <td>163902.00</td>\n",
       "    </tr>\n",
       "    <tr>\n",
       "      <th>Other uses (non-food)</th>\n",
       "      <td>78718.13</td>\n",
       "      <td>66254.41</td>\n",
       "      <td>69563.68</td>\n",
       "      <td>91645.97</td>\n",
       "      <td>91300.97</td>\n",
       "    </tr>\n",
       "    <tr>\n",
       "      <th>Processing</th>\n",
       "      <td>282923.00</td>\n",
       "      <td>287929.00</td>\n",
       "      <td>280631.00</td>\n",
       "      <td>292836.00</td>\n",
       "      <td>308429.00</td>\n",
       "    </tr>\n",
       "    <tr>\n",
       "      <th>Production</th>\n",
       "      <td>1931287.75</td>\n",
       "      <td>1947019.39</td>\n",
       "      <td>1943537.15</td>\n",
       "      <td>2030056.89</td>\n",
       "      <td>2075072.89</td>\n",
       "    </tr>\n",
       "    <tr>\n",
       "      <th>Protein supply quantity (g/capita/day)</th>\n",
       "      <td>11836.46</td>\n",
       "      <td>11833.95</td>\n",
       "      <td>11779.69</td>\n",
       "      <td>11842.45</td>\n",
       "      <td>11833.56</td>\n",
       "    </tr>\n",
       "    <tr>\n",
       "      <th>Residuals</th>\n",
       "      <td>30149.00</td>\n",
       "      <td>30045.00</td>\n",
       "      <td>37224.00</td>\n",
       "      <td>35500.00</td>\n",
       "      <td>34864.00</td>\n",
       "    </tr>\n",
       "    <tr>\n",
       "      <th>Seed</th>\n",
       "      <td>21922.92</td>\n",
       "      <td>23976.82</td>\n",
       "      <td>23389.20</td>\n",
       "      <td>24870.14</td>\n",
       "      <td>25263.14</td>\n",
       "    </tr>\n",
       "    <tr>\n",
       "      <th>Stock Variation</th>\n",
       "      <td>58749.83</td>\n",
       "      <td>34910.99</td>\n",
       "      <td>33140.12</td>\n",
       "      <td>54316.91</td>\n",
       "      <td>20577.91</td>\n",
       "    </tr>\n",
       "    <tr>\n",
       "      <th>Total Population - Both sexes</th>\n",
       "      <td>1031585.00</td>\n",
       "      <td>1058081.00</td>\n",
       "      <td>1085107.00</td>\n",
       "      <td>1112641.00</td>\n",
       "      <td>1140605.00</td>\n",
       "    </tr>\n",
       "    <tr>\n",
       "      <th>Tourist consumption</th>\n",
       "      <td>416.00</td>\n",
       "      <td>349.00</td>\n",
       "      <td>89.00</td>\n",
       "      <td>91.00</td>\n",
       "      <td>90.00</td>\n",
       "    </tr>\n",
       "  </tbody>\n",
       "</table>\n",
       "</div>"
      ],
      "text/plain": [
       "                                             Y2014       Y2015       Y2016  \\\n",
       "Element                                                                      \n",
       "Domestic supply quantity                1996716.35  2021493.55  2044842.70   \n",
       "Export Quantity                          150020.64   157614.47   151920.46   \n",
       "Fat supply quantity (g/capita/day)        10225.56    10235.74    10102.77   \n",
       "Feed                                     216927.89   225050.22   228958.65   \n",
       "Food                                    1212332.49  1232361.10  1247022.17   \n",
       "Food supply (kcal/capita/day)            454257.00   453383.00   451810.00   \n",
       "Food supply quantity (kg/capita/yr)       49650.63    49345.13    48985.28   \n",
       "Import Quantity                          274144.48   267018.46   286582.78   \n",
       "Losses                                   153223.00   155439.00   157787.00   \n",
       "Other uses (non-food)                     78718.13    66254.41    69563.68   \n",
       "Processing                               282923.00   287929.00   280631.00   \n",
       "Production                              1931287.75  1947019.39  1943537.15   \n",
       "Protein supply quantity (g/capita/day)    11836.46    11833.95    11779.69   \n",
       "Residuals                                 30149.00    30045.00    37224.00   \n",
       "Seed                                      21922.92    23976.82    23389.20   \n",
       "Stock Variation                           58749.83    34910.99    33140.12   \n",
       "Total Population - Both sexes           1031585.00  1058081.00  1085107.00   \n",
       "Tourist consumption                         416.00      349.00       89.00   \n",
       "\n",
       "                                             Y2017       Y2018  \n",
       "Element                                                         \n",
       "Domestic supply quantity                2088198.10  2161192.10  \n",
       "Export Quantity                          182338.80   181594.80  \n",
       "Fat supply quantity (g/capita/day)        10253.84    10258.69  \n",
       "Feed                                     223705.68   233489.68  \n",
       "Food                                    1258888.28  1303841.28  \n",
       "Food supply (kcal/capita/day)            454681.00   455261.00  \n",
       "Food supply quantity (kg/capita/yr)       48690.04    49056.85  \n",
       "Import Quantity                          294559.09   287997.09  \n",
       "Losses                                   160614.00   163902.00  \n",
       "Other uses (non-food)                     91645.97    91300.97  \n",
       "Processing                               292836.00   308429.00  \n",
       "Production                              2030056.89  2075072.89  \n",
       "Protein supply quantity (g/capita/day)    11842.45    11833.56  \n",
       "Residuals                                 35500.00    34864.00  \n",
       "Seed                                      24870.14    25263.14  \n",
       "Stock Variation                           54316.91    20577.91  \n",
       "Total Population - Both sexes           1112641.00  1140605.00  \n",
       "Tourist consumption                          91.00       90.00  "
      ]
     },
     "execution_count": 61,
     "metadata": {},
     "output_type": "execute_result"
    }
   ],
   "source": [
    "years = data[['Y2014', 'Y2015', 'Y2016', 'Y2017', 'Y2018']]\n",
    "data.groupby('Element')[['Y2014', 'Y2015', 'Y2016', 'Y2017', 'Y2018']].sum().sort_values(by='Element', \n",
    "                                                                                                 ascending=True)"
   ]
  }
 ],
 "metadata": {
  "kernelspec": {
   "display_name": "Python 3 (ipykernel)",
   "language": "python",
   "name": "python3"
  },
  "language_info": {
   "codemirror_mode": {
    "name": "ipython",
    "version": 3
   },
   "file_extension": ".py",
   "mimetype": "text/x-python",
   "name": "python",
   "nbconvert_exporter": "python",
   "pygments_lexer": "ipython3",
   "version": "3.9.12"
  }
 },
 "nbformat": 4,
 "nbformat_minor": 5
}
